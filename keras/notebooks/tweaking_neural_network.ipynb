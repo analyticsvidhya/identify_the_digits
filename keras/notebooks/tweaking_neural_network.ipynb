{
 "cells": [
  {
   "cell_type": "code",
   "execution_count": 1,
   "metadata": {
    "collapsed": false
   },
   "outputs": [
    {
     "name": "stdout",
     "output_type": "stream",
     "text": [
      "Populating the interactive namespace from numpy and matplotlib\n"
     ]
    },
    {
     "name": "stderr",
     "output_type": "stream",
     "text": [
      "Using TensorFlow backend.\n"
     ]
    }
   ],
   "source": [
    "%pylab inline\n",
    "\n",
    "import os\n",
    "import numpy as np\n",
    "import pandas as pd\n",
    "from scipy.misc import imread\n",
    "from sklearn.metrics import accuracy_score\n",
    "\n",
    "import tensorflow as tf\n",
    "import keras\n",
    "\n",
    "from keras.models import Sequential\n",
    "from keras.layers import Dense, Activation, Dropout, Convolution2D, Flatten, MaxPooling2D, Reshape, InputLayer"
   ]
  },
  {
   "cell_type": "code",
   "execution_count": 2,
   "metadata": {
    "collapsed": true
   },
   "outputs": [],
   "source": [
    "# To stop potential randomness\n",
    "seed = 128\n",
    "rng = np.random.RandomState(seed)"
   ]
  },
  {
   "cell_type": "code",
   "execution_count": 3,
   "metadata": {
    "collapsed": false
   },
   "outputs": [
    {
     "data": {
      "text/plain": [
       "True"
      ]
     },
     "execution_count": 3,
     "metadata": {},
     "output_type": "execute_result"
    }
   ],
   "source": [
    "root_dir = os.path.abspath('../..')\n",
    "data_dir = os.path.join(root_dir, 'data')\n",
    "sub_dir = os.path.join(root_dir, 'sub')\n",
    "\n",
    "# check for existence\n",
    "os.path.exists(root_dir)\n",
    "os.path.exists(data_dir)\n",
    "os.path.exists(sub_dir)"
   ]
  },
  {
   "cell_type": "code",
   "execution_count": 4,
   "metadata": {
    "collapsed": false
   },
   "outputs": [],
   "source": [
    "train = pd.read_csv(os.path.join(data_dir, 'Train', 'train.csv'))\n",
    "test = pd.read_csv(os.path.join(data_dir, 'Test.csv'))\n",
    "\n",
    "sample_submission = pd.read_csv(os.path.join(data_dir, 'Sample_Submission.csv'))"
   ]
  },
  {
   "cell_type": "code",
   "execution_count": 5,
   "metadata": {
    "collapsed": false
   },
   "outputs": [],
   "source": [
    "temp = []\n",
    "for img_name in train.filename:\n",
    "    image_path = os.path.join(data_dir, 'Train', 'Images', 'train', img_name)\n",
    "    img = imread(image_path, flatten=True)\n",
    "    img = img.astype('float32')\n",
    "    temp.append(img)\n",
    "    \n",
    "train_x = np.stack(temp)\n",
    "\n",
    "train_x /= 255.0 \n",
    "train_x = train_x.reshape(-1, 784).astype('float32')\n",
    "\n",
    "temp = []\n",
    "for img_name in test.filename:\n",
    "    image_path = os.path.join(data_dir, 'Train', 'Images', 'test', img_name)\n",
    "    img = imread(image_path, flatten=True)\n",
    "    img = img.astype('float32')\n",
    "    temp.append(img)\n",
    "    \n",
    "test_x = np.stack(temp)\n",
    "\n",
    "test_x /= 255.0\n",
    "test_x = test_x.reshape(-1, 784).astype('float32')\n",
    "\n",
    "train_y = keras.utils.np_utils.to_categorical(train.label.values)"
   ]
  },
  {
   "cell_type": "code",
   "execution_count": 6,
   "metadata": {
    "collapsed": true
   },
   "outputs": [],
   "source": [
    "split_size = int(train_x.shape[0]*0.7)\n",
    "\n",
    "train_x, val_x = train_x[:split_size], train_x[split_size:]\n",
    "train_y, val_y = train_y[:split_size], train_y[split_size:]"
   ]
  },
  {
   "cell_type": "code",
   "execution_count": 7,
   "metadata": {
    "collapsed": true
   },
   "outputs": [],
   "source": [
    "### Wide NN"
   ]
  },
  {
   "cell_type": "code",
   "execution_count": 8,
   "metadata": {
    "collapsed": true
   },
   "outputs": [],
   "source": [
    "# define vars\n",
    "input_num_units = 784\n",
    "hidden_num_units = 500\n",
    "output_num_units = 10\n",
    "\n",
    "epochs = 5\n",
    "batch_size = 128"
   ]
  },
  {
   "cell_type": "code",
   "execution_count": 9,
   "metadata": {
    "collapsed": false
   },
   "outputs": [],
   "source": [
    "model = Sequential([\n",
    "    Dense(output_dim=hidden_num_units, input_dim=input_num_units, activation='relu'),\n",
    "        \n",
    "    Dense(output_dim=output_num_units, input_dim=hidden_num_units, activation='softmax'),\n",
    "])"
   ]
  },
  {
   "cell_type": "code",
   "execution_count": 10,
   "metadata": {
    "collapsed": true
   },
   "outputs": [],
   "source": [
    "model.compile(loss='categorical_crossentropy', optimizer='adam', metrics=['accuracy'])"
   ]
  },
  {
   "cell_type": "code",
   "execution_count": 11,
   "metadata": {
    "collapsed": false
   },
   "outputs": [
    {
     "name": "stdout",
     "output_type": "stream",
     "text": [
      "Train on 34300 samples, validate on 14700 samples\n",
      "Epoch 1/5\n",
      "34300/34300 [==============================] - 7s - loss: 0.3411 - acc: 0.9054 - val_loss: 0.1979 - val_acc: 0.9434\n",
      "Epoch 2/5\n",
      "34300/34300 [==============================] - 7s - loss: 0.1443 - acc: 0.9583 - val_loss: 0.1363 - val_acc: 0.9605\n",
      "Epoch 3/5\n",
      "34300/34300 [==============================] - 7s - loss: 0.0952 - acc: 0.9730 - val_loss: 0.1148 - val_acc: 0.9648\n",
      "Epoch 4/5\n",
      "34300/34300 [==============================] - 7s - loss: 0.0684 - acc: 0.9809 - val_loss: 0.1153 - val_acc: 0.9656\n",
      "Epoch 5/5\n",
      "34300/34300 [==============================] - 7s - loss: 0.0505 - acc: 0.9857 - val_loss: 0.0938 - val_acc: 0.9714\n"
     ]
    }
   ],
   "source": [
    "trained_model_500 = model.fit(train_x, train_y, nb_epoch=epochs, batch_size=batch_size, validation_data=(val_x, val_y))"
   ]
  },
  {
   "cell_type": "code",
   "execution_count": 12,
   "metadata": {
    "collapsed": false
   },
   "outputs": [
    {
     "name": "stdout",
     "output_type": "stream",
     "text": [
      "____________________________________________________________________________________________________\n",
      "Layer (type)                     Output Shape          Param #     Connected to                     \n",
      "====================================================================================================\n",
      "dense_1 (Dense)                  (None, 500)           392500      dense_input_1[0][0]              \n",
      "____________________________________________________________________________________________________\n",
      "dense_2 (Dense)                  (None, 10)            5010        dense_1[0][0]                    \n",
      "====================================================================================================\n",
      "Total params: 397510\n",
      "____________________________________________________________________________________________________\n"
     ]
    }
   ],
   "source": [
    "model.summary()"
   ]
  },
  {
   "cell_type": "code",
   "execution_count": 13,
   "metadata": {
    "collapsed": true
   },
   "outputs": [],
   "source": [
    "### Deep NN"
   ]
  },
  {
   "cell_type": "code",
   "execution_count": 14,
   "metadata": {
    "collapsed": true
   },
   "outputs": [],
   "source": [
    "# define vars\n",
    "input_num_units = 784\n",
    "hidden1_num_units = 50\n",
    "hidden2_num_units = 50\n",
    "hidden3_num_units = 50\n",
    "hidden4_num_units = 50\n",
    "hidden5_num_units = 50\n",
    "output_num_units = 10\n",
    "\n",
    "epochs = 5\n",
    "batch_size = 128"
   ]
  },
  {
   "cell_type": "code",
   "execution_count": 15,
   "metadata": {
    "collapsed": true
   },
   "outputs": [],
   "source": [
    "model = Sequential([\n",
    "    Dense(output_dim=hidden1_num_units, input_dim=input_num_units, activation='relu'),\n",
    "    Dense(output_dim=hidden2_num_units, input_dim=hidden1_num_units, activation='relu'),\n",
    "    Dense(output_dim=hidden3_num_units, input_dim=hidden2_num_units, activation='relu'),\n",
    "    Dense(output_dim=hidden4_num_units, input_dim=hidden3_num_units, activation='relu'),\n",
    "    Dense(output_dim=hidden5_num_units, input_dim=hidden4_num_units, activation='relu'),\n",
    "    \n",
    "        \n",
    "    Dense(output_dim=output_num_units, input_dim=hidden5_num_units, activation='softmax'),\n",
    "])"
   ]
  },
  {
   "cell_type": "code",
   "execution_count": 16,
   "metadata": {
    "collapsed": true
   },
   "outputs": [],
   "source": [
    "model.compile(loss='categorical_crossentropy', optimizer='adam', metrics=['accuracy'])"
   ]
  },
  {
   "cell_type": "code",
   "execution_count": 17,
   "metadata": {
    "collapsed": false
   },
   "outputs": [
    {
     "name": "stdout",
     "output_type": "stream",
     "text": [
      "Train on 34300 samples, validate on 14700 samples\n",
      "Epoch 1/5\n",
      "34300/34300 [==============================] - 2s - loss: 0.5616 - acc: 0.8307 - val_loss: 0.2942 - val_acc: 0.9169\n",
      "Epoch 2/5\n",
      "34300/34300 [==============================] - 2s - loss: 0.2188 - acc: 0.9348 - val_loss: 0.2199 - val_acc: 0.9367\n",
      "Epoch 3/5\n",
      "34300/34300 [==============================] - 2s - loss: 0.1599 - acc: 0.9512 - val_loss: 0.1699 - val_acc: 0.9494\n",
      "Epoch 4/5\n",
      "34300/34300 [==============================] - 2s - loss: 0.1298 - acc: 0.9617 - val_loss: 0.1491 - val_acc: 0.9582\n",
      "Epoch 5/5\n",
      "34300/34300 [==============================] - 2s - loss: 0.1086 - acc: 0.9670 - val_loss: 0.1523 - val_acc: 0.9555\n"
     ]
    }
   ],
   "source": [
    "trained_model_5d = model.fit(train_x, train_y, nb_epoch=epochs, batch_size=batch_size, validation_data=(val_x, val_y))"
   ]
  },
  {
   "cell_type": "code",
   "execution_count": 18,
   "metadata": {
    "collapsed": false
   },
   "outputs": [
    {
     "name": "stdout",
     "output_type": "stream",
     "text": [
      "____________________________________________________________________________________________________\n",
      "Layer (type)                     Output Shape          Param #     Connected to                     \n",
      "====================================================================================================\n",
      "dense_3 (Dense)                  (None, 50)            39250       dense_input_2[0][0]              \n",
      "____________________________________________________________________________________________________\n",
      "dense_4 (Dense)                  (None, 50)            2550        dense_3[0][0]                    \n",
      "____________________________________________________________________________________________________\n",
      "dense_5 (Dense)                  (None, 50)            2550        dense_4[0][0]                    \n",
      "____________________________________________________________________________________________________\n",
      "dense_6 (Dense)                  (None, 50)            2550        dense_5[0][0]                    \n",
      "____________________________________________________________________________________________________\n",
      "dense_7 (Dense)                  (None, 50)            2550        dense_6[0][0]                    \n",
      "____________________________________________________________________________________________________\n",
      "dense_8 (Dense)                  (None, 10)            510         dense_7[0][0]                    \n",
      "====================================================================================================\n",
      "Total params: 49960\n",
      "____________________________________________________________________________________________________\n"
     ]
    }
   ],
   "source": [
    "model.summary()"
   ]
  },
  {
   "cell_type": "code",
   "execution_count": 19,
   "metadata": {
    "collapsed": true
   },
   "outputs": [],
   "source": [
    "### Deep with Dropout"
   ]
  },
  {
   "cell_type": "code",
   "execution_count": 20,
   "metadata": {
    "collapsed": true
   },
   "outputs": [],
   "source": [
    "# define vars\n",
    "input_num_units = 784\n",
    "hidden1_num_units = 50\n",
    "hidden2_num_units = 50\n",
    "hidden3_num_units = 50\n",
    "hidden4_num_units = 50\n",
    "hidden5_num_units = 50\n",
    "output_num_units = 10\n",
    "\n",
    "epochs = 5\n",
    "batch_size = 128"
   ]
  },
  {
   "cell_type": "code",
   "execution_count": 21,
   "metadata": {
    "collapsed": true
   },
   "outputs": [],
   "source": [
    "model = Sequential([\n",
    "    Dense(output_dim=hidden1_num_units, input_dim=input_num_units, activation='relu'),\n",
    "    Dropout(0.2),\n",
    "    Dense(output_dim=hidden2_num_units, input_dim=hidden1_num_units, activation='relu'),\n",
    "    Dropout(0.2),\n",
    "    Dense(output_dim=hidden3_num_units, input_dim=hidden2_num_units, activation='relu'),\n",
    "    Dropout(0.2),\n",
    "    Dense(output_dim=hidden4_num_units, input_dim=hidden3_num_units, activation='relu'),\n",
    "    Dropout(0.2),\n",
    "    Dense(output_dim=hidden5_num_units, input_dim=hidden4_num_units, activation='relu'),\n",
    "    Dropout(0.2),\n",
    "    \n",
    "        \n",
    "    Dense(output_dim=output_num_units, input_dim=hidden5_num_units, activation='softmax'),\n",
    "])"
   ]
  },
  {
   "cell_type": "code",
   "execution_count": 22,
   "metadata": {
    "collapsed": true
   },
   "outputs": [],
   "source": [
    "model.compile(loss='categorical_crossentropy', optimizer='adam', metrics=['accuracy'])"
   ]
  },
  {
   "cell_type": "code",
   "execution_count": 24,
   "metadata": {
    "collapsed": false
   },
   "outputs": [
    {
     "name": "stdout",
     "output_type": "stream",
     "text": [
      "Train on 34300 samples, validate on 14700 samples\n",
      "Epoch 1/5\n",
      "34300/34300 [==============================] - 2s - loss: 1.0985 - acc: 0.6172 - val_loss: 0.3873 - val_acc: 0.8893\n",
      "Epoch 2/5\n",
      "34300/34300 [==============================] - 2s - loss: 0.4692 - acc: 0.8635 - val_loss: 0.2643 - val_acc: 0.9269\n",
      "Epoch 3/5\n",
      "34300/34300 [==============================] - 2s - loss: 0.3708 - acc: 0.8999 - val_loss: 0.2350 - val_acc: 0.9365\n",
      "Epoch 4/5\n",
      "34300/34300 [==============================] - 2s - loss: 0.3124 - acc: 0.9156 - val_loss: 0.2114 - val_acc: 0.9420\n",
      "Epoch 5/5\n",
      "34300/34300 [==============================] - 2s - loss: 0.2893 - acc: 0.9250 - val_loss: 0.2005 - val_acc: 0.9463\n"
     ]
    }
   ],
   "source": [
    "trained_model_5d_with_drop = model.fit(train_x, train_y, nb_epoch=epochs, batch_size=batch_size, validation_data=(val_x, val_y))"
   ]
  },
  {
   "cell_type": "code",
   "execution_count": 25,
   "metadata": {
    "collapsed": false
   },
   "outputs": [
    {
     "name": "stdout",
     "output_type": "stream",
     "text": [
      "____________________________________________________________________________________________________\n",
      "Layer (type)                     Output Shape          Param #     Connected to                     \n",
      "====================================================================================================\n",
      "dense_9 (Dense)                  (None, 50)            39250       dense_input_3[0][0]              \n",
      "____________________________________________________________________________________________________\n",
      "dropout_1 (Dropout)              (None, 50)            0           dense_9[0][0]                    \n",
      "____________________________________________________________________________________________________\n",
      "dense_10 (Dense)                 (None, 50)            2550        dropout_1[0][0]                  \n",
      "____________________________________________________________________________________________________\n",
      "dropout_2 (Dropout)              (None, 50)            0           dense_10[0][0]                   \n",
      "____________________________________________________________________________________________________\n",
      "dense_11 (Dense)                 (None, 50)            2550        dropout_2[0][0]                  \n",
      "____________________________________________________________________________________________________\n",
      "dropout_3 (Dropout)              (None, 50)            0           dense_11[0][0]                   \n",
      "____________________________________________________________________________________________________\n",
      "dense_12 (Dense)                 (None, 50)            2550        dropout_3[0][0]                  \n",
      "____________________________________________________________________________________________________\n",
      "dropout_4 (Dropout)              (None, 50)            0           dense_12[0][0]                   \n",
      "____________________________________________________________________________________________________\n",
      "dense_13 (Dense)                 (None, 50)            2550        dropout_4[0][0]                  \n",
      "____________________________________________________________________________________________________\n",
      "dropout_5 (Dropout)              (None, 50)            0           dense_13[0][0]                   \n",
      "____________________________________________________________________________________________________\n",
      "dense_14 (Dense)                 (None, 10)            510         dropout_5[0][0]                  \n",
      "====================================================================================================\n",
      "Total params: 49960\n",
      "____________________________________________________________________________________________________\n"
     ]
    }
   ],
   "source": [
    "model.summary()"
   ]
  },
  {
   "cell_type": "code",
   "execution_count": 26,
   "metadata": {
    "collapsed": true
   },
   "outputs": [],
   "source": [
    "# Deep Dropout with more epochs"
   ]
  },
  {
   "cell_type": "code",
   "execution_count": 23,
   "metadata": {
    "collapsed": true
   },
   "outputs": [],
   "source": [
    "# define vars\n",
    "input_num_units = 784\n",
    "hidden1_num_units = 50\n",
    "hidden2_num_units = 50\n",
    "hidden3_num_units = 50\n",
    "hidden4_num_units = 50\n",
    "hidden5_num_units = 50\n",
    "output_num_units = 10\n",
    "\n",
    "epochs = 50\n",
    "batch_size = 128"
   ]
  },
  {
   "cell_type": "code",
   "execution_count": 24,
   "metadata": {
    "collapsed": true
   },
   "outputs": [],
   "source": [
    "model = Sequential([\n",
    "    Dense(output_dim=hidden1_num_units, input_dim=input_num_units, activation='relu'),\n",
    "    Dropout(0.2),\n",
    "    Dense(output_dim=hidden2_num_units, input_dim=hidden1_num_units, activation='relu'),\n",
    "    Dropout(0.2),\n",
    "    Dense(output_dim=hidden3_num_units, input_dim=hidden2_num_units, activation='relu'),\n",
    "    Dropout(0.2),\n",
    "    Dense(output_dim=hidden4_num_units, input_dim=hidden3_num_units, activation='relu'),\n",
    "    Dropout(0.2),\n",
    "    Dense(output_dim=hidden5_num_units, input_dim=hidden4_num_units, activation='relu'),\n",
    "    Dropout(0.2),\n",
    "    \n",
    "        \n",
    "    Dense(output_dim=output_num_units, input_dim=hidden5_num_units, activation='softmax'),\n",
    "])"
   ]
  },
  {
   "cell_type": "code",
   "execution_count": 25,
   "metadata": {
    "collapsed": true
   },
   "outputs": [],
   "source": [
    "model.compile(loss='categorical_crossentropy', optimizer='adam', metrics=['accuracy'])"
   ]
  },
  {
   "cell_type": "code",
   "execution_count": 26,
   "metadata": {
    "collapsed": false,
    "scrolled": true
   },
   "outputs": [
    {
     "name": "stdout",
     "output_type": "stream",
     "text": [
      "Train on 34300 samples, validate on 14700 samples\n",
      "Epoch 1/50\n",
      "34300/34300 [==============================] - 2s - loss: 1.1190 - acc: 0.6059 - val_loss: 0.3901 - val_acc: 0.8912\n",
      "Epoch 2/50\n",
      "34300/34300 [==============================] - 2s - loss: 0.4755 - acc: 0.8657 - val_loss: 0.2672 - val_acc: 0.9238\n",
      "Epoch 3/50\n",
      "34300/34300 [==============================] - 2s - loss: 0.3660 - acc: 0.9020 - val_loss: 0.2500 - val_acc: 0.9334\n",
      "Epoch 4/50\n",
      "34300/34300 [==============================] - 2s - loss: 0.3157 - acc: 0.9167 - val_loss: 0.2057 - val_acc: 0.9456\n",
      "Epoch 5/50\n",
      "34300/34300 [==============================] - 2s - loss: 0.2779 - acc: 0.9292 - val_loss: 0.2012 - val_acc: 0.9459\n",
      "Epoch 6/50\n",
      "34300/34300 [==============================] - 2s - loss: 0.2511 - acc: 0.9352 - val_loss: 0.1886 - val_acc: 0.9499\n",
      "Epoch 7/50\n",
      "34300/34300 [==============================] - 2s - loss: 0.2408 - acc: 0.9371 - val_loss: 0.1758 - val_acc: 0.9529\n",
      "Epoch 8/50\n",
      "34300/34300 [==============================] - 2s - loss: 0.2215 - acc: 0.9436 - val_loss: 0.1783 - val_acc: 0.9529\n",
      "Epoch 9/50\n",
      "34300/34300 [==============================] - 2s - loss: 0.2109 - acc: 0.9442 - val_loss: 0.1844 - val_acc: 0.9521\n",
      "Epoch 10/50\n",
      "34300/34300 [==============================] - 2s - loss: 0.2013 - acc: 0.9480 - val_loss: 0.1671 - val_acc: 0.9539\n",
      "Epoch 11/50\n",
      "34300/34300 [==============================] - 2s - loss: 0.1922 - acc: 0.9497 - val_loss: 0.1672 - val_acc: 0.9559\n",
      "Epoch 12/50\n",
      "34300/34300 [==============================] - 2s - loss: 0.1798 - acc: 0.9517 - val_loss: 0.1716 - val_acc: 0.9557\n",
      "Epoch 13/50\n",
      "34300/34300 [==============================] - 2s - loss: 0.1750 - acc: 0.9537 - val_loss: 0.1637 - val_acc: 0.9581\n",
      "Epoch 14/50\n",
      "34300/34300 [==============================] - 2s - loss: 0.1657 - acc: 0.9573 - val_loss: 0.1642 - val_acc: 0.9587\n",
      "Epoch 15/50\n",
      "34300/34300 [==============================] - 2s - loss: 0.1695 - acc: 0.9557 - val_loss: 0.1602 - val_acc: 0.9563\n",
      "Epoch 16/50\n",
      "34300/34300 [==============================] - 2s - loss: 0.1563 - acc: 0.9586 - val_loss: 0.1607 - val_acc: 0.9594\n",
      "Epoch 17/50\n",
      "34300/34300 [==============================] - 2s - loss: 0.1598 - acc: 0.9586 - val_loss: 0.1553 - val_acc: 0.9605\n",
      "Epoch 18/50\n",
      "34300/34300 [==============================] - 2s - loss: 0.1589 - acc: 0.9580 - val_loss: 0.1434 - val_acc: 0.9620\n",
      "Epoch 19/50\n",
      "34300/34300 [==============================] - 2s - loss: 0.1561 - acc: 0.9579 - val_loss: 0.1567 - val_acc: 0.9589\n",
      "Epoch 20/50\n",
      "34300/34300 [==============================] - 2s - loss: 0.1433 - acc: 0.9621 - val_loss: 0.1472 - val_acc: 0.9631\n",
      "Epoch 21/50\n",
      "34300/34300 [==============================] - 2s - loss: 0.1418 - acc: 0.9625 - val_loss: 0.1534 - val_acc: 0.9610\n",
      "Epoch 22/50\n",
      "34300/34300 [==============================] - 2s - loss: 0.1429 - acc: 0.9626 - val_loss: 0.1460 - val_acc: 0.9636\n",
      "Epoch 23/50\n",
      "34300/34300 [==============================] - 2s - loss: 0.1343 - acc: 0.9634 - val_loss: 0.1522 - val_acc: 0.9622\n",
      "Epoch 24/50\n",
      "34300/34300 [==============================] - 2s - loss: 0.1363 - acc: 0.9641 - val_loss: 0.1529 - val_acc: 0.9616\n",
      "Epoch 25/50\n",
      "34300/34300 [==============================] - 2s - loss: 0.1332 - acc: 0.9643 - val_loss: 0.1478 - val_acc: 0.9637\n",
      "Epoch 26/50\n",
      "34300/34300 [==============================] - 2s - loss: 0.1292 - acc: 0.9645 - val_loss: 0.1549 - val_acc: 0.9614\n",
      "Epoch 27/50\n",
      "34300/34300 [==============================] - 2s - loss: 0.1252 - acc: 0.9657 - val_loss: 0.1442 - val_acc: 0.9634\n",
      "Epoch 28/50\n",
      "34300/34300 [==============================] - 2s - loss: 0.1267 - acc: 0.9657 - val_loss: 0.1481 - val_acc: 0.9631\n",
      "Epoch 29/50\n",
      "34300/34300 [==============================] - 2s - loss: 0.1250 - acc: 0.9660 - val_loss: 0.1417 - val_acc: 0.9640\n",
      "Epoch 30/50\n",
      "34300/34300 [==============================] - 2s - loss: 0.1245 - acc: 0.9660 - val_loss: 0.1443 - val_acc: 0.9641\n",
      "Epoch 31/50\n",
      "34300/34300 [==============================] - 3s - loss: 0.1164 - acc: 0.9685 - val_loss: 0.1495 - val_acc: 0.9648\n",
      "Epoch 32/50\n",
      "34300/34300 [==============================] - 2s - loss: 0.1193 - acc: 0.9679 - val_loss: 0.1485 - val_acc: 0.9633\n",
      "Epoch 33/50\n",
      "34300/34300 [==============================] - 2s - loss: 0.1148 - acc: 0.9698 - val_loss: 0.1494 - val_acc: 0.9635\n",
      "Epoch 34/50\n",
      "34300/34300 [==============================] - 3s - loss: 0.1145 - acc: 0.9688 - val_loss: 0.1415 - val_acc: 0.9640\n",
      "Epoch 35/50\n",
      "34300/34300 [==============================] - 3s - loss: 0.1109 - acc: 0.9715 - val_loss: 0.1467 - val_acc: 0.9641\n",
      "Epoch 36/50\n",
      "34300/34300 [==============================] - 3s - loss: 0.1070 - acc: 0.9713 - val_loss: 0.1510 - val_acc: 0.9646\n",
      "Epoch 37/50\n",
      "34300/34300 [==============================] - 3s - loss: 0.1103 - acc: 0.9703 - val_loss: 0.1432 - val_acc: 0.9656\n",
      "Epoch 38/50\n",
      "34300/34300 [==============================] - 2s - loss: 0.1143 - acc: 0.9685 - val_loss: 0.1419 - val_acc: 0.9641\n",
      "Epoch 39/50\n",
      "34300/34300 [==============================] - 2s - loss: 0.1068 - acc: 0.9704 - val_loss: 0.1523 - val_acc: 0.9625\n",
      "Epoch 40/50\n",
      "34300/34300 [==============================] - 2s - loss: 0.1049 - acc: 0.9715 - val_loss: 0.1557 - val_acc: 0.9639\n",
      "Epoch 41/50\n",
      "34300/34300 [==============================] - 2s - loss: 0.1031 - acc: 0.9720 - val_loss: 0.1470 - val_acc: 0.9646\n",
      "Epoch 42/50\n",
      "34300/34300 [==============================] - 2s - loss: 0.1073 - acc: 0.9704 - val_loss: 0.1476 - val_acc: 0.9657\n",
      "Epoch 43/50\n",
      "34300/34300 [==============================] - 2s - loss: 0.1056 - acc: 0.9716 - val_loss: 0.1530 - val_acc: 0.9629\n",
      "Epoch 44/50\n",
      "34300/34300 [==============================] - 2s - loss: 0.1012 - acc: 0.9725 - val_loss: 0.1486 - val_acc: 0.9656\n",
      "Epoch 45/50\n",
      "34300/34300 [==============================] - 2s - loss: 0.1030 - acc: 0.9718 - val_loss: 0.1389 - val_acc: 0.9656\n",
      "Epoch 46/50\n",
      "34300/34300 [==============================] - 2s - loss: 0.0984 - acc: 0.9722 - val_loss: 0.1441 - val_acc: 0.9655\n",
      "Epoch 47/50\n",
      "34300/34300 [==============================] - 2s - loss: 0.1046 - acc: 0.9720 - val_loss: 0.1380 - val_acc: 0.9652\n",
      "Epoch 48/50\n",
      "34300/34300 [==============================] - 2s - loss: 0.0968 - acc: 0.9729 - val_loss: 0.1482 - val_acc: 0.9647\n",
      "Epoch 49/50\n",
      "34300/34300 [==============================] - 2s - loss: 0.0983 - acc: 0.9729 - val_loss: 0.1419 - val_acc: 0.9654\n",
      "Epoch 50/50\n",
      "34300/34300 [==============================] - 2s - loss: 0.0987 - acc: 0.9734 - val_loss: 0.1575 - val_acc: 0.9646\n"
     ]
    }
   ],
   "source": [
    "trained_model_5d_with_drop_more_epochs = model.fit(train_x, train_y, nb_epoch=epochs, batch_size=batch_size, validation_data=(val_x, val_y))"
   ]
  },
  {
   "cell_type": "code",
   "execution_count": 31,
   "metadata": {
    "collapsed": false
   },
   "outputs": [
    {
     "name": "stdout",
     "output_type": "stream",
     "text": [
      "____________________________________________________________________________________________________\n",
      "Layer (type)                     Output Shape          Param #     Connected to                     \n",
      "====================================================================================================\n",
      "dense_15 (Dense)                 (None, 50)            39250       dense_input_4[0][0]              \n",
      "____________________________________________________________________________________________________\n",
      "dropout_6 (Dropout)              (None, 50)            0           dense_15[0][0]                   \n",
      "____________________________________________________________________________________________________\n",
      "dense_16 (Dense)                 (None, 50)            2550        dropout_6[0][0]                  \n",
      "____________________________________________________________________________________________________\n",
      "dropout_7 (Dropout)              (None, 50)            0           dense_16[0][0]                   \n",
      "____________________________________________________________________________________________________\n",
      "dense_17 (Dense)                 (None, 50)            2550        dropout_7[0][0]                  \n",
      "____________________________________________________________________________________________________\n",
      "dropout_8 (Dropout)              (None, 50)            0           dense_17[0][0]                   \n",
      "____________________________________________________________________________________________________\n",
      "dense_18 (Dense)                 (None, 50)            2550        dropout_8[0][0]                  \n",
      "____________________________________________________________________________________________________\n",
      "dropout_9 (Dropout)              (None, 50)            0           dense_18[0][0]                   \n",
      "____________________________________________________________________________________________________\n",
      "dense_19 (Dense)                 (None, 50)            2550        dropout_9[0][0]                  \n",
      "____________________________________________________________________________________________________\n",
      "dropout_10 (Dropout)             (None, 50)            0           dense_19[0][0]                   \n",
      "____________________________________________________________________________________________________\n",
      "dense_20 (Dense)                 (None, 10)            510         dropout_10[0][0]                 \n",
      "====================================================================================================\n",
      "Total params: 49960\n",
      "____________________________________________________________________________________________________\n"
     ]
    }
   ],
   "source": [
    "model.summary()"
   ]
  },
  {
   "cell_type": "code",
   "execution_count": 32,
   "metadata": {
    "collapsed": true
   },
   "outputs": [],
   "source": [
    "### Deep and Wide"
   ]
  },
  {
   "cell_type": "code",
   "execution_count": 33,
   "metadata": {
    "collapsed": true
   },
   "outputs": [],
   "source": [
    "# define vars\n",
    "input_num_units = 784\n",
    "hidden1_num_units = 500\n",
    "hidden2_num_units = 500\n",
    "hidden3_num_units = 500\n",
    "hidden4_num_units = 500\n",
    "hidden5_num_units = 500\n",
    "output_num_units = 10\n",
    "\n",
    "epochs = 25\n",
    "batch_size = 128"
   ]
  },
  {
   "cell_type": "code",
   "execution_count": 34,
   "metadata": {
    "collapsed": true
   },
   "outputs": [],
   "source": [
    "model = Sequential([\n",
    "    Dense(output_dim=hidden1_num_units, input_dim=input_num_units, activation='relu'),\n",
    "    Dropout(0.2),\n",
    "    Dense(output_dim=hidden2_num_units, input_dim=hidden1_num_units, activation='relu'),\n",
    "    Dropout(0.2),\n",
    "    Dense(output_dim=hidden3_num_units, input_dim=hidden2_num_units, activation='relu'),\n",
    "    Dropout(0.2),\n",
    "    Dense(output_dim=hidden4_num_units, input_dim=hidden3_num_units, activation='relu'),\n",
    "    Dropout(0.2),\n",
    "    Dense(output_dim=hidden5_num_units, input_dim=hidden4_num_units, activation='relu'),\n",
    "    Dropout(0.2),\n",
    "    \n",
    "        \n",
    "    Dense(output_dim=output_num_units, input_dim=hidden5_num_units, activation='softmax'),\n",
    "])"
   ]
  },
  {
   "cell_type": "code",
   "execution_count": 35,
   "metadata": {
    "collapsed": true
   },
   "outputs": [],
   "source": [
    "model.compile(loss='categorical_crossentropy', optimizer='adam', metrics=['accuracy'])"
   ]
  },
  {
   "cell_type": "code",
   "execution_count": 36,
   "metadata": {
    "collapsed": false,
    "scrolled": true
   },
   "outputs": [
    {
     "name": "stdout",
     "output_type": "stream",
     "text": [
      "Train on 34300 samples, validate on 14700 samples\n",
      "Epoch 1/25\n",
      "34300/34300 [==============================] - 21s - loss: 0.3789 - acc: 0.8831 - val_loss: 0.1694 - val_acc: 0.9505\n",
      "Epoch 2/25\n",
      "34300/34300 [==============================] - 21s - loss: 0.1565 - acc: 0.9544 - val_loss: 0.1371 - val_acc: 0.9588\n",
      "Epoch 3/25\n",
      "34300/34300 [==============================] - 21s - loss: 0.1174 - acc: 0.9646 - val_loss: 0.1171 - val_acc: 0.9658\n",
      "Epoch 4/25\n",
      "34300/34300 [==============================] - 21s - loss: 0.0974 - acc: 0.9719 - val_loss: 0.1037 - val_acc: 0.9714\n",
      "Epoch 5/25\n",
      "34300/34300 [==============================] - 21s - loss: 0.0796 - acc: 0.9759 - val_loss: 0.1136 - val_acc: 0.9679\n",
      "Epoch 6/25\n",
      "34300/34300 [==============================] - 21s - loss: 0.0679 - acc: 0.9803 - val_loss: 0.1020 - val_acc: 0.9705\n",
      "Epoch 7/25\n",
      "34300/34300 [==============================] - 21s - loss: 0.0637 - acc: 0.9809 - val_loss: 0.1131 - val_acc: 0.9724\n",
      "Epoch 8/25\n",
      "34300/34300 [==============================] - 21s - loss: 0.0514 - acc: 0.9850 - val_loss: 0.1109 - val_acc: 0.9737\n",
      "Epoch 9/25\n",
      "34300/34300 [==============================] - 21s - loss: 0.0502 - acc: 0.9853 - val_loss: 0.1101 - val_acc: 0.9740\n",
      "Epoch 10/25\n",
      "34300/34300 [==============================] - 21s - loss: 0.0432 - acc: 0.9874 - val_loss: 0.1055 - val_acc: 0.9765\n",
      "Epoch 11/25\n",
      "34300/34300 [==============================] - 21s - loss: 0.0416 - acc: 0.9883 - val_loss: 0.1232 - val_acc: 0.9707\n",
      "Epoch 12/25\n",
      "34300/34300 [==============================] - 22s - loss: 0.0390 - acc: 0.9881 - val_loss: 0.1281 - val_acc: 0.9722\n",
      "Epoch 13/25\n",
      "34300/34300 [==============================] - 21s - loss: 0.0379 - acc: 0.9886 - val_loss: 0.1108 - val_acc: 0.9756\n",
      "Epoch 14/25\n",
      "34300/34300 [==============================] - 21s - loss: 0.0350 - acc: 0.9897 - val_loss: 0.1166 - val_acc: 0.9750\n",
      "Epoch 15/25\n",
      "34300/34300 [==============================] - 21s - loss: 0.0361 - acc: 0.9899 - val_loss: 0.1141 - val_acc: 0.9756\n",
      "Epoch 16/25\n",
      "34300/34300 [==============================] - 21s - loss: 0.0285 - acc: 0.9916 - val_loss: 0.1257 - val_acc: 0.9763\n",
      "Epoch 17/25\n",
      "34300/34300 [==============================] - 21s - loss: 0.0359 - acc: 0.9897 - val_loss: 0.1246 - val_acc: 0.9748\n",
      "Epoch 18/25\n",
      "34300/34300 [==============================] - 21s - loss: 0.0252 - acc: 0.9924 - val_loss: 0.1409 - val_acc: 0.9759\n",
      "Epoch 19/25\n",
      "34300/34300 [==============================] - 22s - loss: 0.0311 - acc: 0.9920 - val_loss: 0.1190 - val_acc: 0.9767\n",
      "Epoch 20/25\n",
      "34300/34300 [==============================] - 21s - loss: 0.0292 - acc: 0.9919 - val_loss: 0.1117 - val_acc: 0.9760\n",
      "Epoch 21/25\n",
      "34300/34300 [==============================] - 21s - loss: 0.0303 - acc: 0.9920 - val_loss: 0.1205 - val_acc: 0.9754\n",
      "Epoch 22/25\n",
      "34300/34300 [==============================] - 22s - loss: 0.0284 - acc: 0.9920 - val_loss: 0.1151 - val_acc: 0.9759\n",
      "Epoch 23/25\n",
      "34300/34300 [==============================] - 22s - loss: 0.0277 - acc: 0.9921 - val_loss: 0.1177 - val_acc: 0.9771\n",
      "Epoch 24/25\n",
      "34300/34300 [==============================] - 22s - loss: 0.0280 - acc: 0.9923 - val_loss: 0.1123 - val_acc: 0.9792\n",
      "Epoch 25/25\n",
      "34300/34300 [==============================] - 22s - loss: 0.0263 - acc: 0.9932 - val_loss: 0.1077 - val_acc: 0.9788\n"
     ]
    }
   ],
   "source": [
    "trained_model_deep_n_wide = model.fit(train_x, train_y, nb_epoch=epochs, batch_size=batch_size, validation_data=(val_x, val_y))"
   ]
  },
  {
   "cell_type": "code",
   "execution_count": 37,
   "metadata": {
    "collapsed": false
   },
   "outputs": [
    {
     "name": "stdout",
     "output_type": "stream",
     "text": [
      "20992/21000 [============================>.] - ETA: 0s"
     ]
    }
   ],
   "source": [
    "pred = model.predict_classes(test_x)\n",
    "sample_submission.filename = test.filename; sample_submission.label = pred\n",
    "sample_submission.to_csv(os.path.join(sub_dir, 'sub03.csv'), index=False)"
   ]
  },
  {
   "cell_type": "code",
   "execution_count": null,
   "metadata": {
    "collapsed": true
   },
   "outputs": [],
   "source": []
  },
  {
   "cell_type": "code",
   "execution_count": 38,
   "metadata": {
    "collapsed": true
   },
   "outputs": [],
   "source": [
    "# Intro to conv"
   ]
  },
  {
   "cell_type": "code",
   "execution_count": 35,
   "metadata": {
    "collapsed": true
   },
   "outputs": [],
   "source": [
    "# define vars\n",
    "input_shape = (784,)\n",
    "input_reshape = (28, 28, 1)\n",
    "\n",
    "conv_num_filters = 5\n",
    "conv_filter_size = 5\n",
    "\n",
    "pool_size = (2, 2)\n",
    "\n",
    "hidden_num_units = 50\n",
    "output_num_units = 10\n",
    "\n",
    "epochs = 5\n",
    "batch_size = 128"
   ]
  },
  {
   "cell_type": "code",
   "execution_count": 36,
   "metadata": {
    "collapsed": true
   },
   "outputs": [],
   "source": [
    "train_x_temp = train_x.reshape(-1, 28, 28, 1)\n",
    "val_x_temp = val_x.reshape(-1, 28, 28, 1)"
   ]
  },
  {
   "cell_type": "code",
   "execution_count": 37,
   "metadata": {
    "collapsed": true
   },
   "outputs": [],
   "source": [
    "model = Sequential([\n",
    "    InputLayer(input_shape=input_reshape),\n",
    "        \n",
    "    Convolution2D(25, 5, 5, activation='relu'),\n",
    "    MaxPooling2D(pool_size=pool_size),\n",
    "        \n",
    "    Convolution2D(25, 5, 5, activation='relu'),\n",
    "    MaxPooling2D(pool_size=pool_size),\n",
    "        \n",
    "    Convolution2D(25, 4, 4, activation='relu'),\n",
    "        \n",
    "    Flatten(),\n",
    "        \n",
    "    Dense(output_dim=hidden_num_units, activation='relu'),\n",
    "        \n",
    "    Dense(output_dim=output_num_units, input_dim=hidden_num_units, activation='softmax'),\n",
    "])"
   ]
  },
  {
   "cell_type": "code",
   "execution_count": 38,
   "metadata": {
    "collapsed": true
   },
   "outputs": [],
   "source": [
    "model.compile(loss='categorical_crossentropy', optimizer='adam', metrics=['accuracy'])"
   ]
  },
  {
   "cell_type": "code",
   "execution_count": 39,
   "metadata": {
    "collapsed": false
   },
   "outputs": [
    {
     "name": "stdout",
     "output_type": "stream",
     "text": [
      "Train on 34300 samples, validate on 14700 samples\n",
      "Epoch 1/5\n",
      "34300/34300 [==============================] - 48s - loss: 0.5173 - acc: 0.8327 - val_loss: 0.1696 - val_acc: 0.9489\n",
      "Epoch 2/5\n",
      "34300/34300 [==============================] - 47s - loss: 0.1231 - acc: 0.9627 - val_loss: 0.1051 - val_acc: 0.9689\n",
      "Epoch 3/5\n",
      "34300/34300 [==============================] - 48s - loss: 0.0833 - acc: 0.9736 - val_loss: 0.0825 - val_acc: 0.9744\n",
      "Epoch 4/5\n",
      "34300/34300 [==============================] - 46s - loss: 0.0660 - acc: 0.9790 - val_loss: 0.0769 - val_acc: 0.9764\n",
      "Epoch 5/5\n",
      "34300/34300 [==============================] - 46s - loss: 0.0541 - acc: 0.9827 - val_loss: 0.0689 - val_acc: 0.9796\n"
     ]
    }
   ],
   "source": [
    "trained_model_conv = model.fit(train_x_temp, train_y, nb_epoch=epochs, batch_size=batch_size, validation_data=(val_x_temp, val_y))"
   ]
  },
  {
   "cell_type": "code",
   "execution_count": 44,
   "metadata": {
    "collapsed": false
   },
   "outputs": [
    {
     "name": "stdout",
     "output_type": "stream",
     "text": [
      "____________________________________________________________________________________________________\n",
      "Layer (type)                     Output Shape          Param #     Connected to                     \n",
      "====================================================================================================\n",
      "input_1 (InputLayer)             (None, 28, 28, 1)     0                                            \n",
      "____________________________________________________________________________________________________\n",
      "convolution2d_1 (Convolution2D)  (None, 24, 24, 25)    650         input_1[0][0]                    \n",
      "____________________________________________________________________________________________________\n",
      "maxpooling2d_1 (MaxPooling2D)    (None, 12, 12, 25)    0           convolution2d_1[0][0]            \n",
      "____________________________________________________________________________________________________\n",
      "convolution2d_2 (Convolution2D)  (None, 8, 8, 25)      15650       maxpooling2d_1[0][0]             \n",
      "____________________________________________________________________________________________________\n",
      "maxpooling2d_2 (MaxPooling2D)    (None, 4, 4, 25)      0           convolution2d_2[0][0]            \n",
      "____________________________________________________________________________________________________\n",
      "convolution2d_3 (Convolution2D)  (None, 1, 1, 25)      10025       maxpooling2d_2[0][0]             \n",
      "____________________________________________________________________________________________________\n",
      "flatten_1 (Flatten)              (None, 25)            0           convolution2d_3[0][0]            \n",
      "____________________________________________________________________________________________________\n",
      "dense_27 (Dense)                 (None, 50)            1300        flatten_1[0][0]                  \n",
      "____________________________________________________________________________________________________\n",
      "dense_28 (Dense)                 (None, 10)            510         dense_27[0][0]                   \n",
      "====================================================================================================\n",
      "Total params: 28135\n",
      "____________________________________________________________________________________________________\n"
     ]
    }
   ],
   "source": [
    "model.summary()"
   ]
  },
  {
   "cell_type": "code",
   "execution_count": null,
   "metadata": {
    "collapsed": true
   },
   "outputs": [],
   "source": []
  }
 ],
 "metadata": {
  "anaconda-cloud": {},
  "kernelspec": {
   "display_name": "Python [conda env:keras]",
   "language": "python",
   "name": "conda-env-keras-py"
  },
  "language_info": {
   "codemirror_mode": {
    "name": "ipython",
    "version": 2
   },
   "file_extension": ".py",
   "mimetype": "text/x-python",
   "name": "python",
   "nbconvert_exporter": "python",
   "pygments_lexer": "ipython2",
   "version": "2.7.12"
  }
 },
 "nbformat": 4,
 "nbformat_minor": 0
}
